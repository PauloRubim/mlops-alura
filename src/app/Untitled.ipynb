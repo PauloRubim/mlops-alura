{
 "cells": [
  {
   "cell_type": "code",
   "execution_count": 1,
   "id": "d32d8a32-efcc-4f16-bbeb-40b67c2ea85e",
   "metadata": {},
   "outputs": [],
   "source": [
    "import os "
   ]
  },
  {
   "cell_type": "code",
   "execution_count": 4,
   "id": "edd3854f-9099-40e1-82a9-e20625f89aaa",
   "metadata": {},
   "outputs": [
    {
     "name": "stdout",
     "output_type": "stream",
     "text": [
      "paulo\n"
     ]
    }
   ],
   "source": [
    "print(os.environ.get('BASIC_AUTH_USERNAME'))"
   ]
  },
  {
   "cell_type": "code",
   "execution_count": 5,
   "id": "75d7cada-a715-4606-9f3f-c3100d87453f",
   "metadata": {},
   "outputs": [],
   "source": [
    "#print(os.environ)"
   ]
  },
  {
   "cell_type": "code",
   "execution_count": null,
   "id": "9583bde5-e946-4993-894d-ece8259631a9",
   "metadata": {},
   "outputs": [],
   "source": []
  }
 ],
 "metadata": {
  "kernelspec": {
   "display_name": "Python 3 (ipykernel)",
   "language": "python",
   "name": "python3"
  },
  "language_info": {
   "codemirror_mode": {
    "name": "ipython",
    "version": 3
   },
   "file_extension": ".py",
   "mimetype": "text/x-python",
   "name": "python",
   "nbconvert_exporter": "python",
   "pygments_lexer": "ipython3",
   "version": "3.9.12"
  }
 },
 "nbformat": 4,
 "nbformat_minor": 5
}
